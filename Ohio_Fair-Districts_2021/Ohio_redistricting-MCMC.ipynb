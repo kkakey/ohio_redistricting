{
 "cells": [
  {
   "cell_type": "code",
   "execution_count": 1,
   "metadata": {},
   "outputs": [],
   "source": [
    "### Project inspired by:\n",
    "\n",
    "### https://docs.google.com/forms/d/e/1FAIpQLSc16Ze7Z1R3MHVICZej66PqekkKk97Z8MwdrtgJEJ0FCNljQQ/viewform\n",
    "### https://www.fairdistrictsohio.org/mapcompetition\n",
    "### https://docs.google.com/document/d/e/2PACX-1vTcEUKCz9-YKzJlGF_ljZjj6j2JPafdm7ZYv7SnNPKltFjm7CPMTV_BSYRyEjShaQ/pub"
   ]
  },
  {
   "cell_type": "markdown",
   "metadata": {},
   "source": [
    "Goal: create 2021 congressional districts for Ohio with MCMC\n",
    "\n",
    "Jan. 2022"
   ]
  },
  {
   "cell_type": "code",
   "execution_count": 1,
   "metadata": {},
   "outputs": [],
   "source": [
    "import geopandas as gpd\n",
    "import matplotlib.pyplot as plt\n",
    "import maup\n",
    "import pandas as pd\n",
    "import geopandas as gp\n",
    "import numpy as np\n",
    "import re\n",
    "from statistics import mean, median\n",
    "import random"
   ]
  },
  {
   "cell_type": "markdown",
   "metadata": {},
   "source": [
    "**Load data**"
   ]
  },
  {
   "cell_type": "code",
   "execution_count": 2,
   "metadata": {},
   "outputs": [],
   "source": [
    "blockgrp_shp = gp.read_file(\"./raw-data/OH_2020_census_BG/oh_pl2020_bg.shp\")\n",
    "blocks = gp.read_file(\"./raw-data/OH_2020_census_blocks/oh_pl2020_b.shp\")\n",
    "prec_2020 = gp.read_file(\"./raw-data/oh_vest_2020/oh_vest_20.shp\")"
   ]
  },
  {
   "cell_type": "code",
   "execution_count": 3,
   "metadata": {},
   "outputs": [],
   "source": [
    "blockgrp_shp = blockgrp_shp.to_crs(epsg=4326)\n",
    "blocks = blocks.to_crs(epsg=4326)\n",
    "prec_2020 = prec_2020.to_crs(epsg=4326)\n",
    "\n",
    "\n",
    "blockgrp_shp[\"geometry\"] = blockgrp_shp.buffer(0)\n",
    "prec_2020[\"geometry\"] = prec_2020.buffer(0)\n",
    "blocks[\"geometry\"] = blocks.buffer(0)"
   ]
  },
  {
   "cell_type": "markdown",
   "metadata": {},
   "source": [
    "### Add population data to precincts"
   ]
  },
  {
   "cell_type": "code",
   "execution_count": 4,
   "metadata": {},
   "outputs": [],
   "source": [
    "pieces = maup.intersections(blocks, prec_2020, area_cutoff=0)"
   ]
  },
  {
   "cell_type": "code",
   "execution_count": 5,
   "metadata": {},
   "outputs": [],
   "source": [
    "# Weight by prorated population from blocks\n",
    "weights = blocks[\"P0030001\"].groupby(maup.assign(blocks, pieces)).sum()"
   ]
  },
  {
   "cell_type": "code",
   "execution_count": 6,
   "metadata": {},
   "outputs": [],
   "source": [
    "weights = maup.normalize(weights, level=0)"
   ]
  },
  {
   "cell_type": "code",
   "execution_count": 7,
   "metadata": {},
   "outputs": [],
   "source": [
    "columns = ['P0010001',\n",
    " 'P0010002',\n",
    " 'P0010003',\n",
    " 'P0010004',\n",
    " 'P0010005',\n",
    " 'P0010006',\n",
    " 'P0010007',\n",
    " 'P0010008',\n",
    " 'P0010009',\n",
    " 'P0010010',\n",
    " 'P0010011',\n",
    " 'P0010012',\n",
    " 'P0010013',\n",
    " 'P0010014',\n",
    " 'P0010015',\n",
    " 'P0010016',\n",
    " 'P0010017',\n",
    " 'P0010018',\n",
    " 'P0010019',\n",
    " 'P0010020',\n",
    " 'P0010021',\n",
    " 'P0010022',\n",
    " 'P0010023',\n",
    " 'P0010024',\n",
    " 'P0010025',\n",
    " 'P0010026',\n",
    " 'P0010027',\n",
    " 'P0010028',\n",
    " 'P0010029',\n",
    " 'P0010030',\n",
    " 'P0010031',\n",
    " 'P0010032',\n",
    " 'P0010033',\n",
    " 'P0010034',\n",
    " 'P0010035',\n",
    " 'P0010036',\n",
    " 'P0010037',\n",
    " 'P0010038',\n",
    " 'P0010039',\n",
    " 'P0010040',\n",
    " 'P0010041',\n",
    " 'P0010042',\n",
    " 'P0010043',\n",
    " 'P0010044',\n",
    " 'P0010045',\n",
    " 'P0010046',\n",
    " 'P0010047',\n",
    " 'P0010048',\n",
    " 'P0010049',\n",
    " 'P0010050',\n",
    " 'P0010051',\n",
    " 'P0010052',\n",
    " 'P0010053',\n",
    " 'P0010054',\n",
    " 'P0010055',\n",
    " 'P0010056',\n",
    " 'P0010057',\n",
    " 'P0010058',\n",
    " 'P0010059',\n",
    " 'P0010060',\n",
    " 'P0010061',\n",
    " 'P0010062',\n",
    " 'P0010063',\n",
    " 'P0010064',\n",
    " 'P0010065',\n",
    " 'P0010066',\n",
    " 'P0010067',\n",
    " 'P0010068',\n",
    " 'P0010069',\n",
    " 'P0010070',\n",
    " 'P0010071',\n",
    " 'P0020001',\n",
    " 'P0020002',\n",
    " 'P0020003',\n",
    " 'P0020004',\n",
    " 'P0020005',\n",
    " 'P0020006',\n",
    " 'P0020007',\n",
    " 'P0020008',\n",
    " 'P0020009',\n",
    " 'P0020010',\n",
    " 'P0020011',\n",
    " 'P0020012',\n",
    " 'P0020013',\n",
    " 'P0020014',\n",
    " 'P0020015',\n",
    " 'P0020016',\n",
    " 'P0020017',\n",
    " 'P0020018',\n",
    " 'P0020019',\n",
    " 'P0020020',\n",
    " 'P0020021',\n",
    " 'P0020022',\n",
    " 'P0020023',\n",
    " 'P0020024',\n",
    " 'P0020025',\n",
    " 'P0020026',\n",
    " 'P0020027',\n",
    " 'P0020028',\n",
    " 'P0020029',\n",
    " 'P0020030',\n",
    " 'P0020031',\n",
    " 'P0020032',\n",
    " 'P0020033',\n",
    " 'P0020034',\n",
    " 'P0020035',\n",
    " 'P0020036',\n",
    " 'P0020037',\n",
    " 'P0020038',\n",
    " 'P0020039',\n",
    " 'P0020040',\n",
    " 'P0020041',\n",
    " 'P0020042',\n",
    " 'P0020043',\n",
    " 'P0020044',\n",
    " 'P0020045',\n",
    " 'P0020046',\n",
    " 'P0020047',\n",
    " 'P0020048',\n",
    " 'P0020049',\n",
    " 'P0020050',\n",
    " 'P0020051',\n",
    " 'P0020052',\n",
    " 'P0020053',\n",
    " 'P0020054',\n",
    " 'P0020055',\n",
    " 'P0020056',\n",
    " 'P0020057',\n",
    " 'P0020058',\n",
    " 'P0020059',\n",
    " 'P0020060',\n",
    " 'P0020061',\n",
    " 'P0020062',\n",
    " 'P0020063',\n",
    " 'P0020064',\n",
    " 'P0020065',\n",
    " 'P0020066',\n",
    " 'P0020067',\n",
    " 'P0020068',\n",
    " 'P0020069',\n",
    " 'P0020070',\n",
    " 'P0020071',\n",
    " 'P0020072',\n",
    " 'P0020073',\n",
    " 'P0030001',\n",
    " 'P0030002',\n",
    " 'P0030003',\n",
    " 'P0030004',\n",
    " 'P0030005',\n",
    " 'P0030006',\n",
    " 'P0030007',\n",
    " 'P0030008',\n",
    " 'P0030009',\n",
    " 'P0030010',\n",
    " 'P0030011',\n",
    " 'P0030012',\n",
    " 'P0030013',\n",
    " 'P0030014',\n",
    " 'P0030015',\n",
    " 'P0030016',\n",
    " 'P0030017',\n",
    " 'P0030018',\n",
    " 'P0030019',\n",
    " 'P0030020',\n",
    " 'P0030021',\n",
    " 'P0030022',\n",
    " 'P0030023',\n",
    " 'P0030024',\n",
    " 'P0030025',\n",
    " 'P0030026',\n",
    " 'P0030027',\n",
    " 'P0030028',\n",
    " 'P0030029',\n",
    " 'P0030030',\n",
    " 'P0030031',\n",
    " 'P0030032',\n",
    " 'P0030033',\n",
    " 'P0030034',\n",
    " 'P0030035',\n",
    " 'P0030036',\n",
    " 'P0030037',\n",
    " 'P0030038',\n",
    " 'P0030039',\n",
    " 'P0030040',\n",
    " 'P0030041',\n",
    " 'P0030042',\n",
    " 'P0030043',\n",
    " 'P0030044',\n",
    " 'P0030045',\n",
    " 'P0030046',\n",
    " 'P0030047',\n",
    " 'P0030048',\n",
    " 'P0030049',\n",
    " 'P0030050',\n",
    " 'P0030051',\n",
    " 'P0030052',\n",
    " 'P0030053',\n",
    " 'P0030054',\n",
    " 'P0030055',\n",
    " 'P0030056',\n",
    " 'P0030057',\n",
    " 'P0030058',\n",
    " 'P0030059',\n",
    " 'P0030060',\n",
    " 'P0030061',\n",
    " 'P0030062',\n",
    " 'P0030063',\n",
    " 'P0030064',\n",
    " 'P0030065',\n",
    " 'P0030066',\n",
    " 'P0030067',\n",
    " 'P0030068',\n",
    " 'P0030069',\n",
    " 'P0030070',\n",
    " 'P0030071',\n",
    " 'P0040001',\n",
    " 'P0040002',\n",
    " 'P0040003',\n",
    " 'P0040004',\n",
    " 'P0040005',\n",
    " 'P0040006',\n",
    " 'P0040007',\n",
    " 'P0040008',\n",
    " 'P0040009',\n",
    " 'P0040010',\n",
    " 'P0040011',\n",
    " 'P0040012',\n",
    " 'P0040013',\n",
    " 'P0040014',\n",
    " 'P0040015',\n",
    " 'P0040016',\n",
    " 'P0040017',\n",
    " 'P0040018',\n",
    " 'P0040019',\n",
    " 'P0040020',\n",
    " 'P0040021',\n",
    " 'P0040022',\n",
    " 'P0040023',\n",
    " 'P0040024',\n",
    " 'P0040025',\n",
    " 'P0040026',\n",
    " 'P0040027',\n",
    " 'P0040028',\n",
    " 'P0040029',\n",
    " 'P0040030',\n",
    " 'P0040031',\n",
    " 'P0040032',\n",
    " 'P0040033',\n",
    " 'P0040034',\n",
    " 'P0040035',\n",
    " 'P0040036',\n",
    " 'P0040037',\n",
    " 'P0040038',\n",
    " 'P0040039',\n",
    " 'P0040040',\n",
    " 'P0040041',\n",
    " 'P0040042',\n",
    " 'P0040043',\n",
    " 'P0040044',\n",
    " 'P0040045',\n",
    " 'P0040046',\n",
    " 'P0040047',\n",
    " 'P0040048',\n",
    " 'P0040049',\n",
    " 'P0040050',\n",
    " 'P0040051',\n",
    " 'P0040052',\n",
    " 'P0040053',\n",
    " 'P0040054',\n",
    " 'P0040055',\n",
    " 'P0040056',\n",
    " 'P0040057',\n",
    " 'P0040058',\n",
    " 'P0040059',\n",
    " 'P0040060',\n",
    " 'P0040061',\n",
    " 'P0040062',\n",
    " 'P0040063',\n",
    " 'P0040064',\n",
    " 'P0040065',\n",
    " 'P0040066',\n",
    " 'P0040067',\n",
    " 'P0040068',\n",
    " 'P0040069',\n",
    " 'P0040070',\n",
    " 'P0040071',\n",
    " 'P0040072',\n",
    " 'P0040073',\n",
    " 'H0010001',\n",
    " 'H0010002',\n",
    " 'H0010003',\n",
    " 'P0050001',\n",
    " 'P0050002',\n",
    " 'P0050003',\n",
    " 'P0050004',\n",
    " 'P0050005',\n",
    " 'P0050006',\n",
    " 'P0050007',\n",
    " 'P0050008',\n",
    " 'P0050009',\n",
    " 'P0050010']\n",
    "\n",
    "prec_2020[columns] = maup.prorate(\n",
    "     pieces,\n",
    "     blocks[columns],\n",
    "     weights=weights)"
   ]
  },
  {
   "cell_type": "code",
   "execution_count": 8,
   "metadata": {},
   "outputs": [
    {
     "data": {
      "text/html": [
       "<div>\n",
       "<style scoped>\n",
       "    .dataframe tbody tr th:only-of-type {\n",
       "        vertical-align: middle;\n",
       "    }\n",
       "\n",
       "    .dataframe tbody tr th {\n",
       "        vertical-align: top;\n",
       "    }\n",
       "\n",
       "    .dataframe thead th {\n",
       "        text-align: right;\n",
       "    }\n",
       "</style>\n",
       "<table border=\"1\" class=\"dataframe\">\n",
       "  <thead>\n",
       "    <tr style=\"text-align: right;\">\n",
       "      <th></th>\n",
       "      <th>P0010001</th>\n",
       "      <th>P0010002</th>\n",
       "      <th>P0010003</th>\n",
       "      <th>P0010004</th>\n",
       "      <th>P0010005</th>\n",
       "      <th>P0010006</th>\n",
       "      <th>P0010007</th>\n",
       "      <th>P0010008</th>\n",
       "      <th>P0010009</th>\n",
       "      <th>P0010010</th>\n",
       "      <th>...</th>\n",
       "      <th>P0050001</th>\n",
       "      <th>P0050002</th>\n",
       "      <th>P0050003</th>\n",
       "      <th>P0050004</th>\n",
       "      <th>P0050005</th>\n",
       "      <th>P0050006</th>\n",
       "      <th>P0050007</th>\n",
       "      <th>P0050008</th>\n",
       "      <th>P0050009</th>\n",
       "      <th>P0050010</th>\n",
       "    </tr>\n",
       "  </thead>\n",
       "  <tbody>\n",
       "    <tr>\n",
       "      <th>0</th>\n",
       "      <td>369.0</td>\n",
       "      <td>341.0</td>\n",
       "      <td>256.0</td>\n",
       "      <td>69.0</td>\n",
       "      <td>6.0</td>\n",
       "      <td>3.0</td>\n",
       "      <td>0.0</td>\n",
       "      <td>7.0</td>\n",
       "      <td>28.0</td>\n",
       "      <td>25.0</td>\n",
       "      <td>...</td>\n",
       "      <td>336.0</td>\n",
       "      <td>0.0</td>\n",
       "      <td>0.0</td>\n",
       "      <td>0.0</td>\n",
       "      <td>0.0</td>\n",
       "      <td>0.0</td>\n",
       "      <td>336.0</td>\n",
       "      <td>336.0</td>\n",
       "      <td>0.0</td>\n",
       "      <td>0.0</td>\n",
       "    </tr>\n",
       "    <tr>\n",
       "      <th>1</th>\n",
       "      <td>1300.0</td>\n",
       "      <td>1229.0</td>\n",
       "      <td>1156.0</td>\n",
       "      <td>25.0</td>\n",
       "      <td>1.0</td>\n",
       "      <td>34.0</td>\n",
       "      <td>0.0</td>\n",
       "      <td>13.0</td>\n",
       "      <td>71.0</td>\n",
       "      <td>63.0</td>\n",
       "      <td>...</td>\n",
       "      <td>141.0</td>\n",
       "      <td>141.0</td>\n",
       "      <td>126.0</td>\n",
       "      <td>15.0</td>\n",
       "      <td>0.0</td>\n",
       "      <td>0.0</td>\n",
       "      <td>0.0</td>\n",
       "      <td>0.0</td>\n",
       "      <td>0.0</td>\n",
       "      <td>0.0</td>\n",
       "    </tr>\n",
       "    <tr>\n",
       "      <th>2</th>\n",
       "      <td>1501.0</td>\n",
       "      <td>1389.0</td>\n",
       "      <td>1038.0</td>\n",
       "      <td>21.0</td>\n",
       "      <td>1.0</td>\n",
       "      <td>322.0</td>\n",
       "      <td>0.0</td>\n",
       "      <td>7.0</td>\n",
       "      <td>112.0</td>\n",
       "      <td>106.0</td>\n",
       "      <td>...</td>\n",
       "      <td>0.0</td>\n",
       "      <td>0.0</td>\n",
       "      <td>0.0</td>\n",
       "      <td>0.0</td>\n",
       "      <td>0.0</td>\n",
       "      <td>0.0</td>\n",
       "      <td>0.0</td>\n",
       "      <td>0.0</td>\n",
       "      <td>0.0</td>\n",
       "      <td>0.0</td>\n",
       "    </tr>\n",
       "    <tr>\n",
       "      <th>3</th>\n",
       "      <td>1263.0</td>\n",
       "      <td>1188.0</td>\n",
       "      <td>1108.0</td>\n",
       "      <td>23.0</td>\n",
       "      <td>4.0</td>\n",
       "      <td>28.0</td>\n",
       "      <td>0.0</td>\n",
       "      <td>25.0</td>\n",
       "      <td>75.0</td>\n",
       "      <td>65.0</td>\n",
       "      <td>...</td>\n",
       "      <td>49.0</td>\n",
       "      <td>37.0</td>\n",
       "      <td>0.0</td>\n",
       "      <td>0.0</td>\n",
       "      <td>37.0</td>\n",
       "      <td>0.0</td>\n",
       "      <td>12.0</td>\n",
       "      <td>0.0</td>\n",
       "      <td>0.0</td>\n",
       "      <td>12.0</td>\n",
       "    </tr>\n",
       "    <tr>\n",
       "      <th>4</th>\n",
       "      <td>1469.0</td>\n",
       "      <td>1389.0</td>\n",
       "      <td>1235.0</td>\n",
       "      <td>12.0</td>\n",
       "      <td>1.0</td>\n",
       "      <td>130.0</td>\n",
       "      <td>0.0</td>\n",
       "      <td>11.0</td>\n",
       "      <td>80.0</td>\n",
       "      <td>80.0</td>\n",
       "      <td>...</td>\n",
       "      <td>0.0</td>\n",
       "      <td>0.0</td>\n",
       "      <td>0.0</td>\n",
       "      <td>0.0</td>\n",
       "      <td>0.0</td>\n",
       "      <td>0.0</td>\n",
       "      <td>0.0</td>\n",
       "      <td>0.0</td>\n",
       "      <td>0.0</td>\n",
       "      <td>0.0</td>\n",
       "    </tr>\n",
       "  </tbody>\n",
       "</table>\n",
       "<p>5 rows × 301 columns</p>\n",
       "</div>"
      ],
      "text/plain": [
       "   P0010001  P0010002  P0010003  P0010004  P0010005  P0010006  P0010007  \\\n",
       "0     369.0     341.0     256.0      69.0       6.0       3.0       0.0   \n",
       "1    1300.0    1229.0    1156.0      25.0       1.0      34.0       0.0   \n",
       "2    1501.0    1389.0    1038.0      21.0       1.0     322.0       0.0   \n",
       "3    1263.0    1188.0    1108.0      23.0       4.0      28.0       0.0   \n",
       "4    1469.0    1389.0    1235.0      12.0       1.0     130.0       0.0   \n",
       "\n",
       "   P0010008  P0010009  P0010010  ...  P0050001  P0050002  P0050003  P0050004  \\\n",
       "0       7.0      28.0      25.0  ...     336.0       0.0       0.0       0.0   \n",
       "1      13.0      71.0      63.0  ...     141.0     141.0     126.0      15.0   \n",
       "2       7.0     112.0     106.0  ...       0.0       0.0       0.0       0.0   \n",
       "3      25.0      75.0      65.0  ...      49.0      37.0       0.0       0.0   \n",
       "4      11.0      80.0      80.0  ...       0.0       0.0       0.0       0.0   \n",
       "\n",
       "   P0050005  P0050006  P0050007  P0050008  P0050009  P0050010  \n",
       "0       0.0       0.0     336.0     336.0       0.0       0.0  \n",
       "1       0.0       0.0       0.0       0.0       0.0       0.0  \n",
       "2       0.0       0.0       0.0       0.0       0.0       0.0  \n",
       "3      37.0       0.0      12.0       0.0       0.0      12.0  \n",
       "4       0.0       0.0       0.0       0.0       0.0       0.0  \n",
       "\n",
       "[5 rows x 301 columns]"
      ]
     },
     "execution_count": 8,
     "metadata": {},
     "output_type": "execute_result"
    }
   ],
   "source": [
    "prec_2020[columns].head()"
   ]
  },
  {
   "cell_type": "code",
   "execution_count": 9,
   "metadata": {},
   "outputs": [
    {
     "data": {
      "text/plain": [
       "11790197.0"
      ]
     },
     "execution_count": 9,
     "metadata": {},
     "output_type": "execute_result"
    }
   ],
   "source": [
    "prec_2020.P0010001.sum()"
   ]
  },
  {
   "cell_type": "code",
   "execution_count": 10,
   "metadata": {},
   "outputs": [
    {
     "data": {
      "text/plain": [
       "11799448"
      ]
     },
     "execution_count": 10,
     "metadata": {},
     "output_type": "execute_result"
    }
   ],
   "source": [
    "blocks.P0010001.sum()"
   ]
  },
  {
   "cell_type": "markdown",
   "metadata": {},
   "source": [
    "### Prorate Election Data from precicnts to Block-Groups"
   ]
  },
  {
   "cell_type": "code",
   "execution_count": 11,
   "metadata": {
    "scrolled": true
   },
   "outputs": [],
   "source": [
    "assignment = maup.assign(blockgrp_shp, prec_2020)"
   ]
  },
  {
   "cell_type": "code",
   "execution_count": 12,
   "metadata": {},
   "outputs": [],
   "source": [
    "# prorate the vote totals according to each block's share of the overall\n",
    "# precinct population:\n",
    "weights = blockgrp_shp.P0030001 / assignment.map(prec_2020.P0030001)"
   ]
  },
  {
   "cell_type": "code",
   "execution_count": 13,
   "metadata": {},
   "outputs": [],
   "source": [
    "variables = ['G20PRERTRU', 'G20PREDBID', 'G20PRELJOR', 'G20PREGHAW']\n",
    "\n",
    "prorated = maup.prorate(assignment, prec_2020[variables], weights=weights)"
   ]
  },
  {
   "cell_type": "code",
   "execution_count": 14,
   "metadata": {},
   "outputs": [
    {
     "data": {
      "text/html": [
       "<div>\n",
       "<style scoped>\n",
       "    .dataframe tbody tr th:only-of-type {\n",
       "        vertical-align: middle;\n",
       "    }\n",
       "\n",
       "    .dataframe tbody tr th {\n",
       "        vertical-align: top;\n",
       "    }\n",
       "\n",
       "    .dataframe thead th {\n",
       "        text-align: right;\n",
       "    }\n",
       "</style>\n",
       "<table border=\"1\" class=\"dataframe\">\n",
       "  <thead>\n",
       "    <tr style=\"text-align: right;\">\n",
       "      <th></th>\n",
       "      <th>G20PRERTRU</th>\n",
       "      <th>G20PREDBID</th>\n",
       "      <th>G20PRELJOR</th>\n",
       "      <th>G20PREGHAW</th>\n",
       "    </tr>\n",
       "  </thead>\n",
       "  <tbody>\n",
       "    <tr>\n",
       "      <th>0</th>\n",
       "      <td>61.58</td>\n",
       "      <td>489.60</td>\n",
       "      <td>3.70</td>\n",
       "      <td>2.46</td>\n",
       "    </tr>\n",
       "    <tr>\n",
       "      <th>1</th>\n",
       "      <td>395.06</td>\n",
       "      <td>658.44</td>\n",
       "      <td>6.12</td>\n",
       "      <td>0.00</td>\n",
       "    </tr>\n",
       "    <tr>\n",
       "      <th>2</th>\n",
       "      <td>202.51</td>\n",
       "      <td>417.58</td>\n",
       "      <td>9.42</td>\n",
       "      <td>4.71</td>\n",
       "    </tr>\n",
       "    <tr>\n",
       "      <th>3</th>\n",
       "      <td>175.13</td>\n",
       "      <td>1011.84</td>\n",
       "      <td>0.00</td>\n",
       "      <td>0.00</td>\n",
       "    </tr>\n",
       "    <tr>\n",
       "      <th>4</th>\n",
       "      <td>12.63</td>\n",
       "      <td>226.19</td>\n",
       "      <td>0.60</td>\n",
       "      <td>1.20</td>\n",
       "    </tr>\n",
       "  </tbody>\n",
       "</table>\n",
       "</div>"
      ],
      "text/plain": [
       "   G20PRERTRU  G20PREDBID  G20PRELJOR  G20PREGHAW\n",
       "0       61.58      489.60        3.70        2.46\n",
       "1      395.06      658.44        6.12        0.00\n",
       "2      202.51      417.58        9.42        4.71\n",
       "3      175.13     1011.84        0.00        0.00\n",
       "4       12.63      226.19        0.60        1.20"
      ]
     },
     "execution_count": 14,
     "metadata": {},
     "output_type": "execute_result"
    }
   ],
   "source": [
    "# Add the prorated vote totals as columns \n",
    "blockgrp_shp[variables] = prorated\n",
    "\n",
    "blockgrp_shp[variables].round(2).head()"
   ]
  },
  {
   "cell_type": "markdown",
   "metadata": {},
   "source": [
    "### make sure Cincinnati and Cleaveland aren't split accross districts"
   ]
  },
  {
   "cell_type": "code",
   "execution_count": 15,
   "metadata": {},
   "outputs": [],
   "source": [
    "cincinnati = gpd.read_file(\"./raw-data/cincinatti_bounds/Cincinnati_City_Boundary/Cincinnati_City_Boundary.shp\")\n",
    "cleveland = gpd.read_file(\"./raw-data/cle_bounds/Cleveland_City_Boundaries_CPC.shp\")\n",
    "\n",
    "cleveland = cleveland.to_crs(epsg=4326)\n",
    "cincinnati = cincinnati.to_crs(epsg=4326)"
   ]
  },
  {
   "cell_type": "code",
   "execution_count": 16,
   "metadata": {},
   "outputs": [],
   "source": [
    "from geopandas.tools import sjoin\n",
    "join_clev = sjoin(blockgrp_shp, cleveland, how=\"right\")\n",
    "join_cin = sjoin(blockgrp_shp, cincinnati, how=\"right\")"
   ]
  },
  {
   "cell_type": "code",
   "execution_count": 17,
   "metadata": {},
   "outputs": [],
   "source": [
    "blockgrp_shp['g'] = ''\n",
    "for i in blockgrp_shp.GEOID20:\n",
    "    if i in list(join_clev.GEOID20):\n",
    "        blockgrp_shp.loc[blockgrp_shp['GEOID20'] == i, 'g'] = \"1\"\n",
    "    elif i in list(join_cin.GEOID20):\n",
    "        blockgrp_shp.loc[blockgrp_shp['GEOID20'] == i, 'g'] = \"2\"\n",
    "    else:\n",
    "        blockgrp_shp.loc[blockgrp_shp['GEOID20'] == i, 'g'] = i"
   ]
  },
  {
   "cell_type": "code",
   "execution_count": 18,
   "metadata": {},
   "outputs": [],
   "source": [
    "# for visualization check\n",
    "blockgrp_shp['g2'] = ''\n",
    "for i in blockgrp_shp.GEOID20:\n",
    "    if i in list(join_clev.GEOID20):\n",
    "        blockgrp_shp.loc[blockgrp_shp['GEOID20'] == i, 'g2'] = \"1\"\n",
    "    elif i in list(join_cin.GEOID20):\n",
    "        blockgrp_shp.loc[blockgrp_shp['GEOID20'] == i, 'g2'] = \"2\"\n",
    "    else:\n",
    "        blockgrp_shp.loc[blockgrp_shp['GEOID20'] == i, 'g2'] = \"3\""
   ]
  },
  {
   "cell_type": "code",
   "execution_count": 19,
   "metadata": {},
   "outputs": [],
   "source": [
    "blockgrp_shp2 = blockgrp_shp.dissolve(by='g', aggfunc='sum')\n",
    "blockgrp_shp2 = blockgrp_shp2.reset_index()"
   ]
  },
  {
   "cell_type": "code",
   "execution_count": 20,
   "metadata": {},
   "outputs": [
    {
     "data": {
      "text/plain": [
       "<AxesSubplot:>"
      ]
     },
     "execution_count": 20,
     "metadata": {},
     "output_type": "execute_result"
    },
    {
     "data": {
      "image/png": "[encoded data removed]",
      "text/plain": [
       "<Figure size 432x288 with 1 Axes>"
      ]
     },
     "metadata": {
      "needs_background": "light"
     },
     "output_type": "display_data"
    }
   ],
   "source": [
    "blockgrp_shp.dissolve(by='g2').reset_index().plot(cmap='YlOrRd', column='g2')"
   ]
  },
  {
   "cell_type": "markdown",
   "metadata": {},
   "source": [
    "### Load Columbus to count number of times it is split"
   ]
  },
  {
   "cell_type": "code",
   "execution_count": 21,
   "metadata": {},
   "outputs": [],
   "source": [
    "columbus = gpd.read_file('raw-data/columbus_boundaries/Corporate_Boundary/Corporate_Boundary.shp')\n",
    "\n",
    "columbus = columbus.to_crs(epsg=4326)"
   ]
  },
  {
   "cell_type": "code",
   "execution_count": 22,
   "metadata": {},
   "outputs": [
    {
     "data": {
      "text/plain": [
       "<AxesSubplot:>"
      ]
     },
     "execution_count": 22,
     "metadata": {},
     "output_type": "execute_result"
    },
    {
     "data": {
      "image/png": "[encoded data removed]",
      "text/plain": [
       "<Figure size 432x288 with 1 Axes>"
      ]
     },
     "metadata": {
      "needs_background": "light"
     },
     "output_type": "display_data"
    }
   ],
   "source": [
    "columbus.plot()"
   ]
  },
  {
   "cell_type": "code",
   "execution_count": 23,
   "metadata": {},
   "outputs": [],
   "source": [
    "join_columbus = sjoin(blockgrp_shp2, columbus, how=\"right\")"
   ]
  },
  {
   "cell_type": "code",
   "execution_count": 24,
   "metadata": {},
   "outputs": [],
   "source": [
    "blockgrp_shp2['Columbus'] = ''\n",
    "for i in blockgrp_shp2.g:\n",
    "    if i in list(join_columbus.g):\n",
    "        blockgrp_shp2.loc[blockgrp_shp2['g'] == i, 'Columbus'] = 1\n",
    "    else:\n",
    "        blockgrp_shp2.loc[blockgrp_shp2['g'] == i, 'Columbus'] = 0"
   ]
  },
  {
   "cell_type": "markdown",
   "metadata": {},
   "source": [
    "### Add county data"
   ]
  },
  {
   "cell_type": "code",
   "execution_count": 25,
   "metadata": {},
   "outputs": [],
   "source": [
    "counties = gpd.read_file(\"./raw-data/ODOT_County_Boundaries/ODOT_County_Boundaries.shp\")\n",
    "\n",
    "counties = counties.to_crs(epsg=4326)"
   ]
  },
  {
   "cell_type": "code",
   "execution_count": 26,
   "metadata": {},
   "outputs": [],
   "source": [
    "counties = counties[['COUNTY_CD','geometry']]"
   ]
  },
  {
   "cell_type": "code",
   "execution_count": 27,
   "metadata": {},
   "outputs": [],
   "source": [
    "assign = maup.assign(blockgrp_shp2, counties)"
   ]
  },
  {
   "cell_type": "code",
   "execution_count": 28,
   "metadata": {},
   "outputs": [],
   "source": [
    "blockgrp_shp2[\"County\"] = assign"
   ]
  },
  {
   "cell_type": "code",
   "execution_count": 29,
   "metadata": {},
   "outputs": [],
   "source": [
    "blockgrp_shp2 = blockgrp_shp2[~blockgrp_shp2[\"County\"].isna()]"
   ]
  },
  {
   "cell_type": "code",
   "execution_count": 30,
   "metadata": {},
   "outputs": [],
   "source": [
    "blockgrp_shp2[\"County\"] = blockgrp_shp2.County.astype(int)"
   ]
  },
  {
   "cell_type": "markdown",
   "metadata": {},
   "source": [
    "### MCMC Prep"
   ]
  },
  {
   "cell_type": "code",
   "execution_count": 31,
   "metadata": {},
   "outputs": [],
   "source": [
    "import csv\n",
    "import os\n",
    "import networkx as nx\n",
    "from functools import partial\n",
    "import json\n",
    "import numpy as np\n",
    "import matplotlib\n",
    "import matplotlib.pyplot as plt\n",
    "import maup\n",
    "from tqdm import tqdm\n",
    "plt.style.use('ggplot')\n",
    "\n",
    "from gerrychain import (\n",
    "    Election,\n",
    "    Graph,\n",
    "    MarkovChain,\n",
    "    Partition,\n",
    "    accept,\n",
    "    constraints,\n",
    "    updaters,\n",
    ")\n",
    "from gerrychain.metrics import efficiency_gap, mean_median, partisan_gini\n",
    "from gerrychain.proposals import recom, propose_random_flip\n",
    "from gerrychain.updaters import cut_edges, county_splits, CountySplit\n",
    "from gerrychain.constraints import refuse_new_splits, districts_within_tolerance, contiguous\n",
    "from gerrychain.tree import recursive_tree_part"
   ]
  },
  {
   "cell_type": "code",
   "execution_count": 32,
   "metadata": {},
   "outputs": [],
   "source": [
    "# G20PRERTRU -- trump\n",
    "# G20PREDBID -- biden\n",
    "blockgrp_shp2['TOTPRE20'] = blockgrp_shp2['G20PRERTRU'] + blockgrp_shp2['G20PREDBID'] + blockgrp_shp2['G20PRELJOR'] + blockgrp_shp2['G20PREGHAW']\n",
    "blockgrp_shp2['prop_trumpvote'] = round(blockgrp_shp2['G20PRERTRU'] / blockgrp_shp2['TOTPRE20'],4)*100\n",
    "blockgrp_shp2['prop_bidenvote'] = round(blockgrp_shp2['G20PREDBID'] / blockgrp_shp2['TOTPRE20'],4)*100\n",
    "\n",
    "blockgrp_shp2['prop_black'] = round(blockgrp_shp2['P0020006'] / blockgrp_shp2['P0010001'],4)*100\n",
    "blockgrp_shp2['prop_white'] = round(blockgrp_shp2['P0020005'] / blockgrp_shp2['P0010001'],4)*100\n",
    "\n",
    "blockgrp_shp2[\"nH_BLACK\"] = blockgrp_shp2[\"P0010001\"]-blockgrp_shp2[\"P0020006\"]\n",
    "blockgrp_shp2[\"nH_WHITE\"] = blockgrp_shp2[\"P0010001\"]-blockgrp_shp2[\"P0020005\"]"
   ]
  },
  {
   "cell_type": "code",
   "execution_count": 33,
   "metadata": {},
   "outputs": [],
   "source": [
    "state_abbr = \"OH\"\n",
    "house = \"CG\"\n",
    "state_fip = \"39\"\n",
    "num_districts = 15\n",
    "\n",
    "unique_label = \"GEOID20\"\n",
    "pop_col = \"P0010001\""
   ]
  },
  {
   "cell_type": "code",
   "execution_count": 34,
   "metadata": {},
   "outputs": [
    {
     "data": {
      "text/plain": [
       "<Geographic 2D CRS: EPSG:4326>\n",
       "Name: WGS 84\n",
       "Axis Info [ellipsoidal]:\n",
       "- Lat[north]: Geodetic latitude (degree)\n",
       "- Lon[east]: Geodetic longitude (degree)\n",
       "Area of Use:\n",
       "- name: World\n",
       "- bounds: (-180.0, -90.0, 180.0, 90.0)\n",
       "Datum: World Geodetic System 1984\n",
       "- Ellipsoid: WGS 84\n",
       "- Prime Meridian: Greenwich"
      ]
     },
     "execution_count": 34,
     "metadata": {},
     "output_type": "execute_result"
    }
   ],
   "source": [
    "blockgrp_shp2.crs"
   ]
  },
  {
   "cell_type": "code",
   "execution_count": 35,
   "metadata": {},
   "outputs": [],
   "source": [
    "# create graph\n",
    "graph = Graph.from_geodataframe(blockgrp_shp2)\n",
    "graph.add_data(blockgrp_shp2,list(blockgrp_shp2))"
   ]
  },
  {
   "cell_type": "code",
   "execution_count": 36,
   "metadata": {},
   "outputs": [
    {
     "data": {
      "text/plain": [
       "<Graph [8605 nodes, 23625 edges]>"
      ]
     },
     "execution_count": 36,
     "metadata": {},
     "output_type": "execute_result"
    }
   ],
   "source": [
    "graph"
   ]
  },
  {
   "cell_type": "code",
   "execution_count": 37,
   "metadata": {},
   "outputs": [
    {
     "data": {
      "text/plain": [
       "11799448"
      ]
     },
     "execution_count": 37,
     "metadata": {},
     "output_type": "execute_result"
    }
   ],
   "source": [
    "# population check\n",
    "pop = 0\n",
    "for node in graph:\n",
    "    pop = pop + int(graph.nodes[node][\"P0010001\"])\n",
    "pop"
   ]
  },
  {
   "cell_type": "code",
   "execution_count": 38,
   "metadata": {},
   "outputs": [],
   "source": [
    "updater = {\n",
    "    \"population\": updaters.Tally(\"P0010001\", alias=\"population\"),\n",
    "    \"c_splits\":updaters.county_splits(\"c_splits\", 'County'),\n",
    "    \n",
    "    \"P0020006\":Election(\"P0020006\",{\"P0020006\":\"P0020006\", \"nH_BLACK\":\"nH_BLACK\"}),\n",
    "    \"P0020005\":Election(\"P0020005\",{\"P0020005\":\"P0020005\", \"nH_WHITE\":\"nH_WHITE\"}),\n",
    "    \n",
    "    \"2020_pres\" : Election(\"2020_pres\", {\"G20PRERTRU\":\"G20PRERTRU\",\"G20PREDBID\":\"G20PREDBID\"}, alias=\"2020_pres\")\n",
    "    \n",
    "}"
   ]
  },
  {
   "cell_type": "code",
   "execution_count": 39,
   "metadata": {},
   "outputs": [],
   "source": [
    "start = recursive_tree_part(graph,range(num_districts),round(pop/num_districts),\"P0010001\", .0079,1)"
   ]
  },
  {
   "cell_type": "code",
   "execution_count": 40,
   "metadata": {},
   "outputs": [],
   "source": [
    "initial_partition =Partition(graph,start, updater)"
   ]
  },
  {
   "cell_type": "code",
   "execution_count": 41,
   "metadata": {},
   "outputs": [
    {
     "data": {
      "text/plain": [
       "<AxesSubplot:>"
      ]
     },
     "execution_count": 41,
     "metadata": {},
     "output_type": "execute_result"
    },
    {
     "data": {
      "image/png": "[encoded data removed]",
      "text/plain": [
       "<Figure size 432x288 with 1 Axes>"
      ]
     },
     "metadata": {},
     "output_type": "display_data"
    }
   ],
   "source": [
    "initial_partition.plot()"
   ]
  },
  {
   "cell_type": "markdown",
   "metadata": {},
   "source": [
    "Note on split contraints with MCMC:\n",
    "\n",
    "\"While neutral ensembles of plans generated from a Markov chain can be effective tools in determining a baseline for various metrics, these ensembles typically split up counties far more than\n",
    "human-made plans, since they are usually blind to these boundaries. Moreover, it is challenging\n",
    "even to bias a MCMC run towards less county splittings, since neither ReCom nor flip are particularly well-suited to proposing plans which split counties less. As a result, care must be taken when\n",
    "using ensemble methods to compare or evaluate these scores.\"\n",
    "(https://github.com/vrdi/splitting/blob/master/SplittingReport.pdf p. 6)"
   ]
  },
  {
   "cell_type": "markdown",
   "metadata": {},
   "source": [
    "### Functions"
   ]
  },
  {
   "cell_type": "code",
   "execution_count": 42,
   "metadata": {},
   "outputs": [],
   "source": [
    "def num_splits(partition, df=blockgrp_shp2):\n",
    "    df[\"current\"] = df.index.map(partition.assignment)\n",
    "    return sum(df.groupby('County')['current'].nunique() >1)\n",
    "updater.update({\"County Splits\": num_splits})\n",
    "\n",
    "\n",
    "def num_county_split_x(partition, df=blockgrp_shp2, x=1):\n",
    "    # x = number of times county split\n",
    "    df[\"current\"] = df.index.map(partition.assignment)\n",
    "    county_splits = df.groupby('County')['current'].nunique().reset_index()\n",
    "    return county_splits[county_splits.current==x].shape[0]\n",
    "\n",
    "def columbus_num_splits(partition, df=blockgrp_shp2):\n",
    "    df[\"current\"] = df.index.map(partition.assignment)\n",
    "    return sum(df.groupby('Columbus')['current'].nunique() >1)\n",
    "updater.update({\"Columbus Splits\": num_splits})"
   ]
  },
  {
   "cell_type": "code",
   "execution_count": 64,
   "metadata": {},
   "outputs": [],
   "source": [
    "def save_part(part, state, num, as_shp=True):\n",
    "    '''Save partition as json or shapefile'''\n",
    "\n",
    "    part.graph.to_json('part_'+state+str(num)+'.json', include_geometries_as_geojson=True)\n",
    "    \n",
    "    if as_shp:\n",
    "        ### Importing GeoJSON into Shapely\n",
    "        # https://medium.com/@pramukta/recipe-importing-geojson-into-shapely-da1edf79f41d\n",
    "        import json\n",
    "        from shapely.geometry import shape, GeometryCollection\n",
    "        \n",
    "        with open('part_OH'+str(t)+'.json') as f:\n",
    "            features = json.load(f)[\"nodes\"]\n",
    "\n",
    "        geo = GeometryCollection([shape(feature[\"geometry\"]).buffer(0) for feature in features])\n",
    "        df['geometry'] = geo\n",
    "        # convert to geodataframe\n",
    "        gdf = gpd.GeoDataFrame(df, geometry=df['geometry'])\n",
    "        \n",
    "        gdf.to_file('part_'+state+str(num)+'.shp')"
   ]
  },
  {
   "cell_type": "code",
   "execution_count": null,
   "metadata": {},
   "outputs": [],
   "source": []
  },
  {
   "cell_type": "code",
   "execution_count": 45,
   "metadata": {
    "scrolled": true
   },
   "outputs": [
    {
     "data": {
      "text/plain": [
       "786629.8666666667"
      ]
     },
     "execution_count": 45,
     "metadata": {},
     "output_type": "execute_result"
    }
   ],
   "source": [
    "ideal_population = sum(initial_partition[\"population\"].values()) / len(initial_partition)\n",
    "ideal_population"
   ]
  },
  {
   "cell_type": "code",
   "execution_count": 46,
   "metadata": {},
   "outputs": [],
   "source": [
    "compactness_bound = constraints.UpperBound(\n",
    "    lambda p: len(p[\"cut_edges\"]),\n",
    "    2*len(initial_partition[\"cut_edges\"])\n",
    ")"
   ]
  },
  {
   "cell_type": "code",
   "execution_count": 47,
   "metadata": {},
   "outputs": [],
   "source": [
    "proposal = partial(\n",
    "        recom, pop_col=\"P0010001\", pop_target=pop/num_districts, epsilon=0.01, node_repeats=1)"
   ]
  },
  {
   "cell_type": "code",
   "execution_count": 48,
   "metadata": {},
   "outputs": [],
   "source": [
    "pop_constraint = constraints.within_percent_of_ideal_population(initial_partition, 0.05)\n",
    "\n",
    "chain = MarkovChain(\n",
    "    proposal=proposal,\n",
    "    constraints=[\n",
    "        pop_constraint,\n",
    "        compactness_bound,\n",
    "        constraints.contiguous,\n",
    "        constraints.refuse_new_splits('c_splits')\n",
    "    ],\n",
    "    accept=accept.always_accept,\n",
    "    initial_state=initial_partition,\n",
    "    total_steps=10000,\n",
    ")"
   ]
  },
  {
   "cell_type": "code",
   "execution_count": 49,
   "metadata": {
    "scrolled": true
   },
   "outputs": [
    {
     "name": "stdout",
     "output_type": "stream",
     "text": [
      "District 0: 787228\n",
      "District 1: 782150\n",
      "District 2: 788645\n",
      "District 3: 789474\n",
      "District 4: 780846\n",
      "District 5: 785665\n",
      "District 6: 787372\n",
      "District 7: 789830\n",
      "District 8: 789616\n",
      "District 9: 780973\n",
      "District 10: 792682\n",
      "District 11: 790912\n",
      "District 12: 784071\n",
      "District 13: 781319\n",
      "District 14: 788665\n"
     ]
    }
   ],
   "source": [
    "for district, pop in initial_partition[\"population\"].items():\n",
    "    print(\"District {}: {}\".format(district, pop))"
   ]
  },
  {
   "cell_type": "markdown",
   "metadata": {},
   "source": [
    "### MCMC"
   ]
  },
  {
   "cell_type": "code",
   "execution_count": 50,
   "metadata": {},
   "outputs": [],
   "source": [
    "random.seed(9)"
   ]
  },
  {
   "cell_type": "code",
   "execution_count": 68,
   "metadata": {},
   "outputs": [],
   "source": [
    "population = []\n",
    "\n",
    "pres20 = []\n",
    "gov18 = []\n",
    "mean_medians_pres = []\n",
    "egs_pres = []\n",
    "\n",
    "black_prop = []\n",
    "white_prop = []\n",
    "\n",
    "dem_seats_pres = []\n",
    "rep_seats_pres = []\n",
    "pgini_using_pres_voting = []\n",
    "\n",
    "num_columbus_splits = []\n",
    "num_columbus_nosplits = []\n",
    "num_columbus_split_in_half = []\n",
    "num_columbus_2splits = []\n",
    "\n",
    "county_req_met = 0\n",
    "t = 0\n",
    "for part in chain.with_progress_bar():\n",
    "    population.append(part[\"population\"])\n",
    "\n",
    "    pres20.append(sorted(part[\"2020_pres\"].percents(\"G20PRERTRU\")))\n",
    "    \n",
    "    dem_seats_pres.append(part[\"2020_pres\"].wins(\"G20PREDBID\"))\n",
    "    rep_seats_pres.append(part[\"2020_pres\"].wins(\"G20PRERTRU\"))\n",
    "    \n",
    "    mean_medians_pres.append(mean_median(part[\"2020_pres\"]))\n",
    "    egs_pres.append(efficiency_gap(part[\"2020_pres\"]))\n",
    "    pgini_using_pres_voting.append(partisan_gini(part[\"2020_pres\"]))\n",
    "    \n",
    "    black_prop.append(sorted(part[\"P0020006\"].percents(\"P0020006\"))) # black pop prop\n",
    "    white_prop.append(sorted(part[\"P0020005\"].percents(\"P0020005\"))) # white pop prop\n",
    "\n",
    "    ### keeping track of plans that comply with Ohio split laws\n",
    "    num_columbus_splits.append(columbus_num_splits(part))\n",
    "    num_columbus_nosplits.append(num_county_split_x(part, x=1)) # 65 or more\n",
    "    num_columbus_split_in_half.append(num_county_split_x(part, x=2)) # 18 or less\n",
    "    num_columbus_2splits.append(num_county_split_x(part, x=3)) # 5 or less \n",
    "    \n",
    "    if num_county_split_x(part, x=1)>=65 and num_county_split_x(part, x=2)<=18 and num_county_split_x(part, x=3)<=5 and columbus_num_splits(part)==2:\n",
    "        county_req_met += 1\n",
    "        save_part(part, state=\"OH\", num=t, as_shp=False)\n",
    "\n",
    "    t +=1\n",
    "    if t%500 ==0:\n",
    "        print(\"chain\",part,\"step\",t)\n"
   ]
  },
  {
   "cell_type": "code",
   "execution_count": null,
   "metadata": {},
   "outputs": [],
   "source": [
    "### run MCMC, analyze plan distributions as they related to race, partisanship, and splits"
   ]
  },
  {
   "cell_type": "code",
   "execution_count": null,
   "metadata": {},
   "outputs": [],
   "source": [
    "### run MCMC and save partitions (potential plans) that comply with Ohio law and exhibit districts."
   ]
  },
  {
   "cell_type": "markdown",
   "metadata": {},
   "source": [
    "### Plots"
   ]
  },
  {
   "cell_type": "code",
   "execution_count": 241,
   "metadata": {},
   "outputs": [
    {
     "data": {
      "text/plain": [
       "(array([2.000e+00, 4.000e+00, 0.000e+00, 0.000e+00, 2.000e+00, 4.000e+00,\n",
       "        2.000e+00, 4.000e+00, 2.000e+00, 0.000e+00, 1.000e+01, 2.000e+00,\n",
       "        5.900e+01, 2.000e+00, 8.700e+01, 0.000e+00, 5.100e+01, 2.250e+02,\n",
       "        1.500e+02, 0.000e+00, 6.140e+02, 1.800e+02, 6.000e+00, 8.400e+01,\n",
       "        5.300e+01, 0.000e+00, 6.000e+00, 3.208e+03, 2.041e+03, 3.204e+03]),\n",
       " array([32. , 32.9, 33.8, 34.7, 35.6, 36.5, 37.4, 38.3, 39.2, 40.1, 41. ,\n",
       "        41.9, 42.8, 43.7, 44.6, 45.5, 46.4, 47.3, 48.2, 49.1, 50. , 50.9,\n",
       "        51.8, 52.7, 53.6, 54.5, 55.4, 56.3, 57.2, 58.1, 59. ]),\n",
       " <BarContainer object of 30 artists>)"
      ]
     },
     "execution_count": 241,
     "metadata": {},
     "output_type": "execute_result"
    },
    {
     "data": {
      "image/png": "[encoded data removed]",
      "text/plain": [
       "<Figure size 432x288 with 1 Axes>"
      ]
     },
     "metadata": {},
     "output_type": "display_data"
    }
   ],
   "source": [
    "plt.hist(num_columbus_nosplits, density=False, bins=30)  # density=False would make counts"
   ]
  },
  {
   "cell_type": "code",
   "execution_count": 245,
   "metadata": {},
   "outputs": [
    {
     "data": {
      "text/plain": [
       "(array([4.000e+00, 7.100e+01, 4.660e+02, 1.208e+03, 1.859e+03, 1.848e+03,\n",
       "        1.641e+03, 0.000e+00, 9.470e+02, 3.970e+02, 1.350e+02, 8.700e+01,\n",
       "        1.790e+02, 3.030e+02, 0.000e+00, 3.400e+02, 2.270e+02, 8.900e+01,\n",
       "        6.400e+01, 5.500e+01, 4.600e+01, 1.700e+01, 0.000e+00, 6.000e+00,\n",
       "        2.000e+00, 1.000e+00, 2.000e+00, 1.000e+00, 5.000e+00, 2.000e+00]),\n",
       " array([ 8.        ,  8.86666667,  9.73333333, 10.6       , 11.46666667,\n",
       "        12.33333333, 13.2       , 14.06666667, 14.93333333, 15.8       ,\n",
       "        16.66666667, 17.53333333, 18.4       , 19.26666667, 20.13333333,\n",
       "        21.        , 21.86666667, 22.73333333, 23.6       , 24.46666667,\n",
       "        25.33333333, 26.2       , 27.06666667, 27.93333333, 28.8       ,\n",
       "        29.66666667, 30.53333333, 31.4       , 32.26666667, 33.13333333,\n",
       "        34.        ]),\n",
       " <BarContainer object of 30 artists>)"
      ]
     },
     "execution_count": 245,
     "metadata": {},
     "output_type": "execute_result"
    },
    {
     "data": {
      "image/png": "[encoded data removed]",
      "text/plain": [
       "<Figure size 432x288 with 1 Axes>"
      ]
     },
     "metadata": {},
     "output_type": "display_data"
    }
   ],
   "source": [
    "plt.hist(num_columbus_split_in_half, density=False, bins=30)  # density=False would make counts"
   ]
  },
  {
   "cell_type": "code",
   "execution_count": 244,
   "metadata": {},
   "outputs": [
    {
     "data": {
      "text/plain": [
       "(array([1.000e+00, 0.000e+00, 7.000e+00, 0.000e+00, 4.300e+01, 0.000e+00,\n",
       "        2.550e+02, 0.000e+00, 5.560e+02, 0.000e+00, 1.126e+03, 0.000e+00,\n",
       "        1.635e+03, 0.000e+00, 0.000e+00, 1.938e+03, 0.000e+00, 1.747e+03,\n",
       "        0.000e+00, 1.370e+03, 0.000e+00, 8.120e+02, 0.000e+00, 3.920e+02,\n",
       "        0.000e+00, 9.300e+01, 0.000e+00, 2.200e+01, 0.000e+00, 5.000e+00]),\n",
       " array([ 6.        ,  6.46666667,  6.93333333,  7.4       ,  7.86666667,\n",
       "         8.33333333,  8.8       ,  9.26666667,  9.73333333, 10.2       ,\n",
       "        10.66666667, 11.13333333, 11.6       , 12.06666667, 12.53333333,\n",
       "        13.        , 13.46666667, 13.93333333, 14.4       , 14.86666667,\n",
       "        15.33333333, 15.8       , 16.26666667, 16.73333333, 17.2       ,\n",
       "        17.66666667, 18.13333333, 18.6       , 19.06666667, 19.53333333,\n",
       "        20.        ]),\n",
       " <BarContainer object of 30 artists>)"
      ]
     },
     "execution_count": 244,
     "metadata": {},
     "output_type": "execute_result"
    },
    {
     "data": {
      "image/png": "[encoded data removed]",
      "text/plain": [
       "<Figure size 432x288 with 1 Axes>"
      ]
     },
     "metadata": {},
     "output_type": "display_data"
    }
   ],
   "source": [
    "plt.hist(num_columbus_2splits, density=False, bins=30)  # density=False would make counts"
   ]
  }
 ],
 "metadata": {
  "kernelspec": {
   "display_name": "Python 3",
   "language": "python",
   "name": "python3"
  },
  "language_info": {
   "codemirror_mode": {
    "name": "ipython",
    "version": 3
   },
   "file_extension": ".py",
   "mimetype": "text/x-python",
   "name": "python",
   "nbconvert_exporter": "python",
   "pygments_lexer": "ipython3",
   "version": "3.8.2"
  }
 },
 "nbformat": 4,
 "nbformat_minor": 4
}
